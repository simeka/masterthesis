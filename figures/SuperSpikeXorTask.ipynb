{
 "cells": [
  {
   "cell_type": "code",
   "execution_count": 1,
   "metadata": {},
   "outputs": [
    {
     "name": "stderr",
     "output_type": "stream",
     "text": [
      "<ipython-input-1-c4f735b63cde>:2: MatplotlibDeprecationWarning: \n",
      "The text.latex.unicode rcparam was deprecated in Matplotlib 3.0 and will be removed in 3.2.\n",
      "  import matplotlib.pyplot as plt\n"
     ]
    }
   ],
   "source": [
    "import numpy as np\n",
    "import matplotlib.pyplot as plt\n",
    "pop_xor = np.loadtxt(\"pop_xor.data\")\n",
    "\n",
    "\n",
    "def save_plot(fig, name, size=(6, 3)):\n",
    "    orig = fig.get_size_inches()\n",
    "    fig.set_size_inches(size)\n",
    "    \n",
    "    fig.savefig(name + \".pgf\", bbox_inches=\"tight\", transparent=True)\n",
    "    try:\n",
    "        fig.savefig(name + \".pdf\", bbox_inches=\"tight\", transparent=True)\n",
    "    except:\n",
    "        print(\"couldnt save pdf\")\n",
    "    fig.set_size_inches(orig)\n",
    "\n"
   ]
  },
  {
   "cell_type": "code",
   "execution_count": 2,
   "metadata": {},
   "outputs": [
    {
     "data": {
      "text/plain": [
       "Text(0, 0.5, 'Neuron')"
      ]
     },
     "execution_count": 2,
     "metadata": {},
     "output_type": "execute_result"
    },
    {
     "name": "stderr",
     "output_type": "stream",
     "text": [
      "findfont: Font family ['serif'] not found. Falling back to DejaVu Sans.\n"
     ]
    },
    {
     "data": {
      "image/png": "[encoded data removed]",
      "text/plain": [
       "<Figure size 216x216 with 1 Axes>"
      ]
     },
     "metadata": {
      "needs_background": "light"
     },
     "output_type": "display_data"
    }
   ],
   "source": [
    "pop_xor = np.loadtxt(\"pop_xor.data\")\n",
    "pop_xor[:, 1] /= 250  # use times up to 200µs instead of 10ms\n",
    "pop_xor[:, 0] -= 1  # start at zero until 95\n",
    "pop_xor_spiketrains = {0 : (pop_xor[:20], 0),\n",
    "                    1 : (pop_xor[20:60],1),\n",
    "                    2 : (pop_xor[60:100],1),\n",
    "                    3 : (pop_xor[100:160],0)}\n",
    "\n",
    "colors = [\"red\", \"blue\", \"green\", \"black\"]\n",
    "target = [0, 1, 1, 0]\n",
    "m = [\"o\",\"o\",\"o\",\"o\"]\n",
    "s = [(r)**2 for r in np.arange(1,11,3)]\n",
    "s = s[::-1]\n",
    "lw = 1.6\n",
    "fig = plt.figure(figsize=(3,3))\n",
    "ax = fig.gca()\n",
    "for p, (spiketrain, c) in pop_xor_spiketrains.items():\n",
    "    if p != 3:\n",
    "        ax.scatter(spiketrain[:,1]*1e6, spiketrain[:,0], s=s[p], lw=lw, facecolors='none', edgecolors=colors[p], label=p)\n",
    "    else:\n",
    "        ax.scatter(spiketrain[:,1]*1e6, spiketrain[:,0], s=s[p], lw=2, color=colors[p], label=p)\n",
    "#ax.legend([\"$S_{%s}$\" %i for i in range(1,5)], bbox_to_anchor=(1,1))\n",
    "ax.legend()\n",
    "ax.set_ylim(61, 75)\n",
    "ax.set_xlim(-50, 50)\n",
    "ax.set_title('Spike raster plot')\n",
    "ax.set_xlabel('time in mu s')\n",
    "ax.set_ylabel('Neuron')\n",
    "#plt.legend.lab\n",
    "#save_plot(fig, \"superspiketask\", (3,3))\n"
   ]
  },
  {
   "cell_type": "code",
   "execution_count": 3,
   "metadata": {},
   "outputs": [
    {
     "data": {
      "text/plain": [
       "([<matplotlib.collections.PathCollection at 0x7fa1c9eff670>,\n",
       "  <matplotlib.collections.PathCollection at 0x7fa1c9effb50>,\n",
       "  <matplotlib.collections.PathCollection at 0x7fa1c9effdc0>,\n",
       "  <matplotlib.collections.PathCollection at 0x7fa1c9f25190>],\n",
       " ['0', '1', '2', '3'])"
      ]
     },
     "execution_count": 3,
     "metadata": {},
     "output_type": "execute_result"
    }
   ],
   "source": [
    "ax.get_legend_handles_labels()"
   ]
  },
  {
   "cell_type": "code",
   "execution_count": 4,
   "metadata": {},
   "outputs": [
    {
     "data": {
      "text/plain": [
       "<matplotlib.legend.Legend at 0x7fa1c9e70430>"
      ]
     },
     "execution_count": 4,
     "metadata": {},
     "output_type": "execute_result"
    },
    {
     "data": {
      "image/png": "[encoded data removed]",
      "text/plain": [
       "<Figure size 432x288 with 1 Axes>"
      ]
     },
     "metadata": {
      "needs_background": "light"
     },
     "output_type": "display_data"
    }
   ],
   "source": [
    "figlegend = plt.figure()\n",
    "plt.scatter(spiketrain[:,1]*1e6, spiketrain[:,0], s=s[p], lw=lw, facecolors='none', edgecolors=colors[p])\n",
    "plt.legend(*ax.get_legend_handles_labels())"
   ]
  },
  {
   "cell_type": "code",
   "execution_count": 5,
   "metadata": {},
   "outputs": [
    {
     "data": {
      "text/plain": [
       "([<matplotlib.collections.PathCollection at 0x7fa1c9eff670>,\n",
       "  <matplotlib.collections.PathCollection at 0x7fa1c9effb50>,\n",
       "  <matplotlib.collections.PathCollection at 0x7fa1c9effdc0>,\n",
       "  <matplotlib.collections.PathCollection at 0x7fa1c9f25190>],\n",
       " ['0', '1', '2', '3'])"
      ]
     },
     "execution_count": 5,
     "metadata": {},
     "output_type": "execute_result"
    }
   ],
   "source": [
    "ax.get_legend_handles_labels()"
   ]
  },
  {
   "cell_type": "code",
   "execution_count": 6,
   "metadata": {},
   "outputs": [
    {
     "data": {
      "image/png": "[encoded data removed]",
      "text/plain": [
       "<Figure size 216x216 with 1 Axes>"
      ]
     },
     "metadata": {
      "needs_background": "light"
     },
     "output_type": "display_data"
    }
   ],
   "source": [
    "pop_xor = np.loadtxt(\"pop_xor.data\")\n",
    "pop_xor[:, 1] /= 50  # use times up to 200µs instead of 10ms\n",
    "pop_xor[:, 0] -= 1  # start at zero until 95\n",
    "pop_xor_spiketrains = {0 : (pop_xor[:20], 0),\n",
    "                    1 : (pop_xor[20:60],1),\n",
    "                    2 : (pop_xor[60:100],1),\n",
    "                    3 : (pop_xor[100:160],0)}\n",
    "\n",
    "colors = [\"#555555\", \"#AF5A50\", \"#005B82\", \"#7D966E\", \"#D7AA50\"]\n",
    "target = [0, 1, 1, 0]\n",
    "m = [\"o\",\"o\",\"o\",\"o\"]\n",
    "s = [(r)**2 for r in np.arange(1,5,1)]\n",
    "s = s[::-1]\n",
    "lw = 1\n",
    "fig = plt.figure(figsize=(3,3))\n",
    "for p, (spiketrain, c) in pop_xor_spiketrains.items():\n",
    "    if p != 3:\n",
    "        plt.scatter(spiketrain[:,1]*1e6, spiketrain[:,0], s=s[p], lw=lw, facecolors='none', edgecolors=colors[p])\n",
    "    else:\n",
    "        plt.scatter(spiketrain[:,1]*1e6, spiketrain[:,0], s=s[p], lw=1.1, color=colors[p])\n",
    "plt.legend([\"$S_{%s}$\" %i for i in range(1,5)], bbox_to_anchor=(1,1))\n",
    "#plt.ylim(60, 72)\n",
    "plt.xlim(0, 250)\n",
    "plt.title('Spike raster plot')\n",
    "plt.xlabel('time in mu s')\n",
    "plt.ylabel('Neuron')\n",
    "save_plot(fig, \"superspiketask\", (3,3))"
   ]
  },
  {
   "cell_type": "code",
   "execution_count": 172,
   "metadata": {},
   "outputs": [
    {
     "ename": "AttributeError",
     "evalue": "'AxesSubplot' object has no attribute 'prop_cycle'",
     "output_type": "error",
     "traceback": [
      "\u001b[0;31m---------------------------------------------------------------------------\u001b[0m",
      "\u001b[0;31mAttributeError\u001b[0m                            Traceback (most recent call last)",
      "\u001b[0;32m<ipython-input-172-8706f071839c>\u001b[0m in \u001b[0;36m<module>\u001b[0;34m\u001b[0m\n\u001b[0;32m----> 1\u001b[0;31m \u001b[0max\u001b[0m\u001b[0;34m.\u001b[0m\u001b[0mprop_cycle\u001b[0m\u001b[0;34m\u001b[0m\u001b[0;34m\u001b[0m\u001b[0m\n\u001b[0m",
      "\u001b[0;31mAttributeError\u001b[0m: 'AxesSubplot' object has no attribute 'prop_cycle'"
     ]
    }
   ],
   "source": [
    "ax.axe"
   ]
  },
  {
   "cell_type": "code",
   "execution_count": 90,
   "metadata": {},
   "outputs": [
    {
     "data": {
      "image/png": "[encoded data removed]",
      "text/plain": [
       "<Figure size 432x288 with 1 Axes>"
      ]
     },
     "metadata": {
      "needs_background": "light"
     },
     "output_type": "display_data"
    }
   ],
   "source": [
    "\n",
    "plt.scatter(spiketrain[:,1], spiketrain[:,0], s=80, facecolors='none', edgecolors=colors[p])\n",
    "plt.show()"
   ]
  },
  {
   "cell_type": "code",
   "execution_count": 50,
   "metadata": {},
   "outputs": [
    {
     "data": {
      "image/png": "[encoded data removed]",
      "text/plain": [
       "<Figure size 720x720 with 1 Axes>"
      ]
     },
     "metadata": {
      "needs_background": "light"
     },
     "output_type": "display_data"
    }
   ],
   "source": [
    "# Set the random seed for data generation\n",
    "fig = plt.figure(figsize=(10,10))\n",
    "lw = 5\n",
    "ll = 0.25\n",
    "for p, (spiketrain, c) in pop_xor_spiketrains.items():\n",
    "    #plt.scatter(spiketrain[:,1], spiketrain[:,0],s=55,marker=m[p], color=colors[p],alpha = 0.5)\n",
    "    plt.eventplot(spiketrain[:,1:2], lineoffsets=spiketrain[:,0]+p*ll, linewidths=lw, linelengths=ll, color=colors[p], alpha=1)\n",
    "    plt.ylim(50,100)\n",
    "plt.title('Spike raster plot')\n",
    "plt.xlabel('Spike')\n",
    "plt.ylabel('Neuron')\n",
    "plt.show()"
   ]
  },
  {
   "cell_type": "code",
   "execution_count": 41,
   "metadata": {},
   "outputs": [
    {
     "data": {
      "text/plain": [
       "array([2.4660e-05, 7.9320e-05, 2.2600e-05, 1.7592e-04, 8.8100e-05,\n",
       "       3.6420e-05, 1.9066e-04, 8.1560e-05, 1.9174e-04, 2.2660e-05,\n",
       "       3.4560e-05, 1.4600e-04, 6.9760e-05, 7.3240e-05, 9.3420e-05,\n",
       "       1.8040e-04, 6.3440e-05, 1.9628e-04, 5.6960e-05, 1.6198e-04,\n",
       "       5.0000e-05, 9.0400e-06, 1.6812e-04, 5.5260e-05, 7.6680e-05,\n",
       "       9.6400e-06, 3.9260e-05, 8.1280e-05, 1.7040e-04, 1.5360e-04,\n",
       "       3.8640e-05, 5.4460e-05, 2.2480e-05, 7.7540e-05, 9.9360e-05,\n",
       "       1.0876e-04, 1.8470e-04, 8.8380e-05, 1.4864e-04, 3.8560e-05,\n",
       "       9.1440e-05, 1.0792e-04, 4.7340e-05, 1.2980e-04, 4.1000e-05,\n",
       "       1.5322e-04, 1.7760e-04, 1.0900e-04, 8.7460e-05, 1.0040e-04,\n",
       "       1.0648e-04, 1.0604e-04, 1.4556e-04, 1.8936e-04, 3.4140e-05,\n",
       "       4.4740e-05, 1.7742e-04, 7.2980e-05, 1.5880e-05, 1.2540e-04])"
      ]
     },
     "execution_count": 41,
     "metadata": {},
     "output_type": "execute_result"
    }
   ],
   "source": [
    "spiketrain[:,1]"
   ]
  },
  {
   "cell_type": "code",
   "execution_count": 58,
   "metadata": {},
   "outputs": [
    {
     "data": {
      "image/png": "[encoded data removed]",
      "text/plain": [
       "<Figure size 216x216 with 1 Axes>"
      ]
     },
     "metadata": {
      "needs_background": "light"
     },
     "output_type": "display_data"
    }
   ],
   "source": [
    "# Set the random seed for data generation\n",
    "fig = plt.figure(figsize=(3,3))\n",
    "lw = 5\n",
    "ll = 0.25\n",
    "for p, (spiketrain, c) in pop_xor_spiketrains.items():\n",
    "    plt.eventplot(spiketrain[:,1:2]*1e6, lineoffsets=spiketrain[:,0]+p*ll, linewidths=lw, linelengths=ll, color=colors[p], alpha=1)\n",
    "    plt.eventplot(spiketrain[:1,1:2], lineoffsets=spiketrain[0,0]+p*ll, linewidths=lw, linelengths=ll, color=colors[p], alpha=1, label=p)\n",
    "\n",
    "plt.ylim(61, 73)\n",
    "plt.xlim(70, 120)\n",
    "plt.legend(bbox)\n",
    "plt.title('Spike raster plot')\n",
    "plt.xlabel('time in mu s')\n",
    "plt.ylabel('Neuron')\n",
    "plt.show()"
   ]
  },
  {
   "cell_type": "code",
   "execution_count": 59,
   "metadata": {},
   "outputs": [
    {
     "data": {
      "text/plain": [
       "array([[7.0000e+00, 2.2600e-05],\n",
       "       [1.7000e+01, 8.1560e-05],\n",
       "       [1.8000e+01, 1.9174e-04],\n",
       "       [2.4000e+01, 1.4600e-04],\n",
       "       [2.5000e+01, 6.9760e-05],\n",
       "       [3.3000e+01, 6.3440e-05],\n",
       "       [3.7000e+01, 5.0000e-05],\n",
       "       [3.9000e+01, 1.6812e-04],\n",
       "       [4.4000e+01, 5.5260e-05],\n",
       "       [5.5000e+01, 1.5360e-04],\n",
       "       [5.9000e+01, 5.4460e-05],\n",
       "       [6.0000e+01, 2.2480e-05],\n",
       "       [6.2000e+01, 9.9360e-05],\n",
       "       [6.3000e+01, 1.0876e-04],\n",
       "       [6.9000e+01, 3.8560e-05],\n",
       "       [7.3000e+01, 4.7340e-05],\n",
       "       [7.7000e+01, 1.7760e-04],\n",
       "       [8.1000e+01, 8.7460e-05],\n",
       "       [8.4000e+01, 1.0604e-04],\n",
       "       [8.5000e+01, 1.4556e-04],\n",
       "       [0.0000e+00, 2.4660e-05],\n",
       "       [7.0000e+00, 2.2600e-05],\n",
       "       [9.0000e+00, 1.7592e-04],\n",
       "       [1.0000e+01, 8.8100e-05],\n",
       "       [1.5000e+01, 1.9066e-04],\n",
       "       [1.7000e+01, 8.1560e-05],\n",
       "       [1.8000e+01, 1.9174e-04],\n",
       "       [2.0000e+01, 2.2660e-05],\n",
       "       [2.1000e+01, 3.4560e-05],\n",
       "       [2.4000e+01, 1.4600e-04],\n",
       "       [2.5000e+01, 6.9760e-05],\n",
       "       [2.7000e+01, 7.3240e-05],\n",
       "       [3.1000e+01, 1.8040e-04],\n",
       "       [3.3000e+01, 6.3440e-05],\n",
       "       [3.7000e+01, 5.0000e-05],\n",
       "       [3.8000e+01, 9.0400e-06],\n",
       "       [3.9000e+01, 1.6812e-04],\n",
       "       [4.4000e+01, 5.5260e-05],\n",
       "       [4.6000e+01, 9.6400e-06],\n",
       "       [4.8000e+01, 3.9260e-05],\n",
       "       [5.5000e+01, 1.5360e-04],\n",
       "       [5.9000e+01, 5.4460e-05],\n",
       "       [6.0000e+01, 2.2480e-05],\n",
       "       [6.2000e+01, 9.9360e-05],\n",
       "       [6.3000e+01, 1.0876e-04],\n",
       "       [6.6000e+01, 8.8380e-05],\n",
       "       [6.9000e+01, 3.8560e-05],\n",
       "       [7.0000e+01, 9.1440e-05],\n",
       "       [7.3000e+01, 4.7340e-05],\n",
       "       [7.4000e+01, 1.2980e-04],\n",
       "       [7.7000e+01, 1.7760e-04],\n",
       "       [8.0000e+01, 1.0900e-04],\n",
       "       [8.1000e+01, 8.7460e-05],\n",
       "       [8.3000e+01, 1.0648e-04],\n",
       "       [8.4000e+01, 1.0604e-04],\n",
       "       [8.5000e+01, 1.4556e-04],\n",
       "       [8.7000e+01, 1.8936e-04],\n",
       "       [8.8000e+01, 3.4140e-05],\n",
       "       [9.2000e+01, 7.2980e-05],\n",
       "       [9.3000e+01, 1.5880e-05],\n",
       "       [6.0000e+00, 7.9320e-05],\n",
       "       [7.0000e+00, 2.2600e-05],\n",
       "       [1.4000e+01, 3.6420e-05],\n",
       "       [1.7000e+01, 8.1560e-05],\n",
       "       [1.8000e+01, 1.9174e-04],\n",
       "       [2.4000e+01, 1.4600e-04],\n",
       "       [2.5000e+01, 6.9760e-05],\n",
       "       [2.8000e+01, 9.3420e-05],\n",
       "       [3.3000e+01, 6.3440e-05],\n",
       "       [3.4000e+01, 1.9628e-04],\n",
       "       [3.5000e+01, 5.6960e-05],\n",
       "       [3.6000e+01, 1.6198e-04],\n",
       "       [3.7000e+01, 5.0000e-05],\n",
       "       [3.9000e+01, 1.6812e-04],\n",
       "       [4.4000e+01, 5.5260e-05],\n",
       "       [4.5000e+01, 7.6680e-05],\n",
       "       [5.3000e+01, 8.1280e-05],\n",
       "       [5.4000e+01, 1.7040e-04],\n",
       "       [5.5000e+01, 1.5360e-04],\n",
       "       [5.6000e+01, 3.8640e-05],\n",
       "       [5.9000e+01, 5.4460e-05],\n",
       "       [6.0000e+01, 2.2480e-05],\n",
       "       [6.1000e+01, 7.7540e-05],\n",
       "       [6.2000e+01, 9.9360e-05],\n",
       "       [6.3000e+01, 1.0876e-04],\n",
       "       [6.4000e+01, 1.8470e-04],\n",
       "       [6.7000e+01, 1.4864e-04],\n",
       "       [6.9000e+01, 3.8560e-05],\n",
       "       [7.1000e+01, 1.0792e-04],\n",
       "       [7.3000e+01, 4.7340e-05],\n",
       "       [7.5000e+01, 4.1000e-05],\n",
       "       [7.6000e+01, 1.5322e-04],\n",
       "       [7.7000e+01, 1.7760e-04],\n",
       "       [8.1000e+01, 8.7460e-05],\n",
       "       [8.2000e+01, 1.0040e-04],\n",
       "       [8.4000e+01, 1.0604e-04],\n",
       "       [8.5000e+01, 1.4556e-04],\n",
       "       [8.9000e+01, 4.4740e-05],\n",
       "       [9.0000e+01, 1.7742e-04],\n",
       "       [9.5000e+01, 1.2540e-04],\n",
       "       [0.0000e+00, 2.4660e-05],\n",
       "       [6.0000e+00, 7.9320e-05],\n",
       "       [7.0000e+00, 2.2600e-05],\n",
       "       [9.0000e+00, 1.7592e-04],\n",
       "       [1.0000e+01, 8.8100e-05],\n",
       "       [1.4000e+01, 3.6420e-05],\n",
       "       [1.5000e+01, 1.9066e-04],\n",
       "       [1.7000e+01, 8.1560e-05],\n",
       "       [1.8000e+01, 1.9174e-04],\n",
       "       [2.0000e+01, 2.2660e-05],\n",
       "       [2.1000e+01, 3.4560e-05],\n",
       "       [2.4000e+01, 1.4600e-04],\n",
       "       [2.5000e+01, 6.9760e-05],\n",
       "       [2.7000e+01, 7.3240e-05],\n",
       "       [2.8000e+01, 9.3420e-05],\n",
       "       [3.1000e+01, 1.8040e-04],\n",
       "       [3.3000e+01, 6.3440e-05],\n",
       "       [3.4000e+01, 1.9628e-04],\n",
       "       [3.5000e+01, 5.6960e-05],\n",
       "       [3.6000e+01, 1.6198e-04],\n",
       "       [3.7000e+01, 5.0000e-05],\n",
       "       [3.8000e+01, 9.0400e-06],\n",
       "       [3.9000e+01, 1.6812e-04],\n",
       "       [4.4000e+01, 5.5260e-05],\n",
       "       [4.5000e+01, 7.6680e-05],\n",
       "       [4.6000e+01, 9.6400e-06],\n",
       "       [4.8000e+01, 3.9260e-05],\n",
       "       [5.3000e+01, 8.1280e-05],\n",
       "       [5.4000e+01, 1.7040e-04],\n",
       "       [5.5000e+01, 1.5360e-04],\n",
       "       [5.6000e+01, 3.8640e-05],\n",
       "       [5.9000e+01, 5.4460e-05],\n",
       "       [6.0000e+01, 2.2480e-05],\n",
       "       [6.1000e+01, 7.7540e-05],\n",
       "       [6.2000e+01, 9.9360e-05],\n",
       "       [6.3000e+01, 1.0876e-04],\n",
       "       [6.4000e+01, 1.8470e-04],\n",
       "       [6.6000e+01, 8.8380e-05],\n",
       "       [6.7000e+01, 1.4864e-04],\n",
       "       [6.9000e+01, 3.8560e-05],\n",
       "       [7.0000e+01, 9.1440e-05],\n",
       "       [7.1000e+01, 1.0792e-04],\n",
       "       [7.3000e+01, 4.7340e-05],\n",
       "       [7.4000e+01, 1.2980e-04],\n",
       "       [7.5000e+01, 4.1000e-05],\n",
       "       [7.6000e+01, 1.5322e-04],\n",
       "       [7.7000e+01, 1.7760e-04],\n",
       "       [8.0000e+01, 1.0900e-04],\n",
       "       [8.1000e+01, 8.7460e-05],\n",
       "       [8.2000e+01, 1.0040e-04],\n",
       "       [8.3000e+01, 1.0648e-04],\n",
       "       [8.4000e+01, 1.0604e-04],\n",
       "       [8.5000e+01, 1.4556e-04],\n",
       "       [8.7000e+01, 1.8936e-04],\n",
       "       [8.8000e+01, 3.4140e-05],\n",
       "       [8.9000e+01, 4.4740e-05],\n",
       "       [9.0000e+01, 1.7742e-04],\n",
       "       [9.2000e+01, 7.2980e-05],\n",
       "       [9.3000e+01, 1.5880e-05],\n",
       "       [9.5000e+01, 1.2540e-04]])"
      ]
     },
     "execution_count": 59,
     "metadata": {},
     "output_type": "execute_result"
    }
   ],
   "source": [
    "pop_xor"
   ]
  },
  {
   "cell_type": "code",
   "execution_count": 18,
   "metadata": {},
   "outputs": [
    {
     "name": "stdout",
     "output_type": "stream",
     "text": [
      "[0.02502441 0.05004883 0.07568359 0.10070801 0.12573242 0.15136719\n",
      " 0.1763916  0.20141602 0.22705078 0.2520752  0.27770996 0.30273438\n",
      " 0.32775879 0.35339355 0.37841797 0.40344238 0.42907715 0.45410156\n",
      " 0.47912598 0.50476074 0.52978516 0.55541992 0.58044434 0.60546875\n",
      " 0.63110352 0.65612793 0.68115234 0.70678711 0.73181152 0.75683594\n",
      " 0.7824707  0.80749512 0.83312988 0.8581543  0.88317871 0.90881348\n",
      " 0.93383789 0.9588623  0.98449707 1.00952148 1.0345459  1.06018066\n",
      " 1.08520508]\n",
      "(43,)\n"
     ]
    }
   ],
   "source": [
    "n = 100\n",
    "dac_wait_time = 1e4\n",
    "minV = 0.1\n",
    "maxV = 1.1\n",
    "\n",
    "# using vreset\n",
    "cadc_storage = np.zeros((n, 256))\n",
    "dac_vals = np.linspace(0, 4095, n).astype(int)\n",
    "daclsb2V = lambda x: x * 2.5 / 4096\n",
    "V2daclsb = lambda x: (x * 4096 / 2.5).astype(int)\n",
    "\n",
    "dac_in_V = daclsb2V(dac_vals)\n",
    "\n",
    "# dynamic range\n",
    "dynamic_range_in_V = dac_in_V[(dac_in_V <= maxV) & (dac_vals > minV)]\n",
    "print(dynamic_range_in_V)\n",
    "print(dynamic_range_in_V.shape)\n",
    "dynamic_range_in_dac = V2daclsb(dynamic_range_in_V)"
   ]
  },
  {
   "cell_type": "code",
   "execution_count": 19,
   "metadata": {},
   "outputs": [
    {
     "data": {
      "text/plain": [
       "array([  41,   82,  124,  165,  206,  248,  289,  330,  372,  413,  455,\n",
       "        496,  537,  579,  620,  661,  703,  744,  785,  827,  868,  910,\n",
       "        951,  992, 1034, 1075, 1116, 1158, 1199, 1240, 1282, 1323, 1365,\n",
       "       1406, 1447, 1489, 1530, 1571, 1613, 1654, 1695, 1737, 1778])"
      ]
     },
     "execution_count": 19,
     "metadata": {},
     "output_type": "execute_result"
    }
   ],
   "source": [
    "dynamic_range_in_dac"
   ]
  }
 ],
 "metadata": {
  "kernelspec": {
   "display_name": "masterarbeit",
   "language": "python",
   "name": "masterarbeit"
  },
  "language_info": {
   "codemirror_mode": {
    "name": "ipython",
    "version": 3
   },
   "file_extension": ".py",
   "mimetype": "text/x-python",
   "name": "python",
   "nbconvert_exporter": "python",
   "pygments_lexer": "ipython3",
   "version": "3.8.1"
  }
 },
 "nbformat": 4,
 "nbformat_minor": 4
}
